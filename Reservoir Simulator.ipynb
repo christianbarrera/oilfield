{
 "cells": [
  {
   "cell_type": "markdown",
   "metadata": {},
   "source": [
    "# Reservoir Simulation Notebook\n",
    "\n",
    "Welcome to the Reservoir Simulator! This notebook models pressure distribution in a 2D reservoir with multiple wells. It is designed for engineers and students to understand and visualize reservoir behavior over time.\n",
    "\n",
    "## How to Use This Notebook\n",
    "- **Step 1:** Review the project overview and requirements below.\n",
    "- **Step 2:** Set your simulation parameters in the next cell.\n",
    "- **Step 3:** Run each cell in order to build the model, run the simulation, and visualize results.\n",
    "- **Step 4:** Interpret the results using the provided plots and explanations.\n",
    "\n",
    "---\n",
    "\n",
    "## Requirements\n",
    "- Python 3.8+\n",
    "- numpy, scipy, matplotlib, plotly, pandas\n",
    "\n",
    "To install requirements, run:\n",
    "```bash\n",
    "pip install numpy scipy matplotlib plotly pandas\n",
    "```\n",
    "\n",
    "---\n",
    "\n",
    "## Project Overview\n",
    "This notebook simulates pressure changes in a rectangular oil reservoir using finite difference methods. It supports multiple wells (producers/injectors) and visualizes pressure evolution in 3D and interactive plots.\n",
    "\n",
    "---\n",
    "\n",
    "## Workflow\n",
    "1. **Set Parameters**: Define grid, reservoir, and well properties.\n",
    "2. **Define Functions**: Core simulation and transmissibility functions.\n",
    "3. **Run Simulation**: Calculate pressure distribution over time.\n",
    "4. **Visualize Results**: View 3D and interactive plots.\n",
    "5. **Interpretation**: Understand and analyze the output.\n",
    "\n",
    "## This block of code sets the properties of the reservoir.  The commented code is for user input.  \n",
    "The first block is where the user inputs the reservoir information.  Exchange the function with what's included here below in the triple-quotes to ask the user for their input."
   ]
  },
  {
   "cell_type": "code",
   "execution_count": 8,
   "metadata": {
    "collapsed": true
   },
   "outputs": [],
   "source": [
    "import numpy as np\n",
    "from scipy import sparse\n",
    "\n",
    "'''\n",
    "def Res_properties():\n",
    "    NX = int(input(\"Number of X grid blocks: \"))\n",
    "    NY = int(input(\"Number of Y grid blocks: \"))\n",
    "    L = int(input(\"Length of Reservoir: \"))\n",
    "    W = int(input(\"Width of Reservoir: \"))\n",
    "    h = int(input(\"Height of Reservoir: \"))\n",
    "    rw = float(input(\"Wellbore radius: \"))\n",
    "    dt = float(input(\"Change in time: \"))\n",
    "    mu = float(input(\"Fluid viscosity: \"))\n",
    "    Bw = float(input(\"Formation volume factor: \"))\n",
    "    ct = float(input(\"Rock compressibility: \"))\n",
    "    Pi = int(input(\"Initial pressure: \"))\n",
    "    Porosity = (np.ones([NX, NY])*0.3).T\n",
    "    Permeability = (np.ones([NX, NY])*75).T\n",
    "    t = int(input(\"Total time: \"))\n",
    "    n = int(input(\"Number of wells: \"))\n",
    "    \n",
    "    return NX, NY, L, W, h, rw, dt, mu, Bw, ct, Pi, Porosity, Permeability, t, n'''\n",
    "\n",
    "def Res_properties():\n",
    "    NX = 99\n",
    "    NY = 99\n",
    "\n",
    "    L = 20000\n",
    "    W = 20000\n",
    "    h = 300\n",
    "    rw = float(.25)\n",
    "    dt = float(1)\n",
    "    mu = float(1)\n",
    "    Bw = float(1.36)\n",
    "    ct = float(1e-06)\n",
    "    Pi = int(3000)\n",
    "    Porosity = (np.ones([NX, NY])*.3).T\n",
    "    Permeability = (np.ones([NX, NY])*75).T\n",
    "    t = int(100)\n",
    "    n = 5\n",
    "\n",
    "    return NX, NY, L, W, h, rw, dt, mu, Bw, ct, Pi, Porosity, Permeability, t, n\n",
    "\n",
    "NX, NY, L, W, h, rw, dt, mu, Bw, ct, Pi, Porosity, Permeability, t, n = Res_properties()\n",
    "\n",
    "dx = L/NX\n",
    "dy = W/NY\n",
    "\n",
    "Area_x = h*dx\n",
    "Area_y = h*dy"
   ]
  },
  {
   "cell_type": "markdown",
   "metadata": {},
   "source": [
    "## 1. Set Simulation Parameters\n",
    "\n",
    "Edit the values in the next cell to configure your simulation. Each parameter is explained below:\n",
    "\n",
    "- **NX, NY**: Number of grid blocks in X and Y directions (resolution)\n",
    "- **L, W, h**: Reservoir length, width, and height (ft)\n",
    "- **rw**: Wellbore radius (ft)\n",
    "- **dt**: Time step (days)\n",
    "- **mu**: Fluid viscosity (cp)\n",
    "- **Bw**: Formation volume factor (bbl/STB)\n",
    "- **ct**: Rock compressibility (1/psi)\n",
    "- **Pi**: Initial reservoir pressure (psi)\n",
    "- **Porosity**: Reservoir porosity (fraction)\n",
    "- **Permeability**: Reservoir permeability (md)\n",
    "- **t**: Total simulation time (days)\n",
    "- **n**: Number of wells\n",
    "\n",
    "You can adjust these values to match your reservoir scenario. Default values are provided for demonstration."
   ]
  },
  {
   "cell_type": "markdown",
   "metadata": {},
   "source": [
    "The below T_inter function creates the intertransmisciblity of the reservoir between blocks."
   ]
  },
  {
   "cell_type": "markdown",
   "metadata": {},
   "source": [
    "## 2. Define Core Simulation Functions\n",
    "\n",
    "The following functions are used to calculate transmissibility and simulate pressure changes in the reservoir.\n",
    "\n",
    "---\n",
    "\n",
    "### T_inter Function\n",
    "Calculates the inter-block transmissibility between two adjacent grid blocks.\n",
    "\n",
    "**Arguments:**\n",
    "- `Permeability`, `Permeability_2`: Permeability values of the two blocks (md)\n",
    "- `mu`: Fluid viscosity (cp)\n",
    "- `Bw`: Formation volume factor (bbl/STB)\n",
    "- `dx`: Distance between block centers (ft)\n",
    "- `Area`: Cross-sectional area (ft²)\n",
    "\n",
    "**Returns:**\n",
    "- Transmissibility value (float)\n"
   ]
  },
  {
   "cell_type": "code",
   "execution_count": 9,
   "metadata": {
    "collapsed": true
   },
   "outputs": [],
   "source": [
    "def T_inter(Permeability, Permeability_2, mu, Bw, dx, Area):\n",
    "    if Permeability == 0 or Permeability_2 == 0:\n",
    "        t_inter = 0\n",
    "    else:\n",
    "        k_inter = 2*(1/float(Permeability) + 1/float(Permeability_2))**(-1)\n",
    "        t_inter = k_inter*Area/(mu*Bw*dx)*(6.33e-03)\n",
    "    return t_inter"
   ]
  },
  {
   "cell_type": "markdown",
   "metadata": {},
   "source": [
    "Below, T_array creates the matrix to describe intertransmiscibility.  "
   ]
  },
  {
   "cell_type": "markdown",
   "metadata": {},
   "source": [
    "### T_array Function\n",
    "Builds the transmissibility matrix for the entire reservoir grid.\n",
    "\n",
    "**Arguments:**\n",
    "- `NX`, `NY`: Number of grid blocks in X and Y\n",
    "- `Permeability`: 2D array of permeability values\n",
    "- `mu`, `Bw`, `dx`, `dy`, `Area_x`, `Area_y`: Reservoir and fluid properties\n",
    "\n",
    "**Returns:**\n",
    "- Sparse transmissibility matrix (N x N)"
   ]
  },
  {
   "cell_type": "code",
   "execution_count": 10,
   "metadata": {
    "collapsed": true,
    "scrolled": true
   },
   "outputs": [],
   "source": [
    "from scipy import sparse\n",
    "\n",
    "def T_array(NX, NY, Permeability, mu, Bw, dx, dy, Area_x, Area_y):\n",
    "    N = NX*NY\n",
    "    T = sparse.lil_matrix(np.zeros([N, N]))\n",
    "\n",
    "    for i in range(N):\n",
    "        if (i+1) - NX > 0:  # shows blocks above bottom edge\n",
    "            T[i, i-NX] = -T_inter(Permeability[2-m.floor((i)/NX),i-m.floor(i/NX)*NX], \n",
    "                                  Permeability[3-m.floor((i)/NX),i-m.floor(i/NX)*NX],\n",
    "                                mu, Bw, dy, Area_x)\n",
    "            T[i, i] = T[i, i] + T_inter(Permeability[2-m.floor((i)/NX),i-m.floor(i/NX)*NX], \n",
    "                                        Permeability[3-m.floor((i)/NX),i-m.floor(i/NX)*NX],\n",
    "                                mu, Bw, dy, Area_x)\n",
    "\n",
    "            \n",
    "        \n",
    "        if (i+1) + NX <= N:    # shows blocks below top edge \n",
    "\n",
    "            T[i, i+NX] = -T_inter(Permeability[2-m.floor((i)/NX),i-m.floor(i/NX)*NX], \n",
    "                                  Permeability[1-m.floor((i)/NX),i-m.floor(i/NX)*NX],\n",
    "                                mu, Bw, dy, Area_x)\n",
    "            T[i, i] = T[i, i] + T_inter(Permeability[2-m.floor((i)/NX),i-m.floor(i/NX)*NX], \n",
    "                                        Permeability[1-m.floor((i)/NX),i-m.floor(i/NX)*NX],\n",
    "                                mu, Bw, dy, Area_x)\n",
    "\n",
    "            \n",
    "            \n",
    "        if (i+1)%NX != 0:     # Shows blocks except right edge\n",
    "            T[i, i+1] = -T_inter(Permeability[2-m.floor((i)/NX),i-m.floor(i/NX)*NX], Permeability[2-m.floor((i)/NX),i-m.floor(i/NX)*NX+1],\n",
    "                                mu, Bw, dx, Area_y)\n",
    "            T[i, i] = T[i, i] + T_inter(Permeability[2-m.floor((i)/NX),i-m.floor(i/NX)*NX], \n",
    "                                        Permeability[2-m.floor((i)/NX),i-m.floor(i/NX)*NX+1],\n",
    "                                mu, Bw, dx, Area_y)\n",
    "\n",
    "            \n",
    "            \n",
    "        if (i+1)%NX != 1:      # shows blcoks except left edge\n",
    "            T[i, i-1] = -T_inter(Permeability[2-m.floor((i)/NX),i-m.floor(i/NX)*NX], \n",
    "                                 Permeability[2-m.floor((i)/NX),i-m.floor(i/NX)*NX-1],\n",
    "                                mu, Bw, dx, Area_y)\n",
    "            T[i, i] = T[i, i] + T_inter(Permeability[2-m.floor((i)/NX),i-m.floor(i/NX)*NX], \n",
    "                                        Permeability[2-m.floor((i)/NX),i-m.floor(i/NX)*NX-1],\n",
    "                                mu, Bw, dx, Area_y)      \n",
    "            \n",
    "    return sparse.lil_matrix(T)"
   ]
  },
  {
   "cell_type": "markdown",
   "metadata": {},
   "source": [
    "The inter_transm function creates the pressure points for each block."
   ]
  },
  {
   "cell_type": "markdown",
   "metadata": {},
   "source": [
    "### inter_transm Function\n",
    "Solves for pressure at each grid block over time using the transmissibility matrix and well conditions.\n",
    "\n",
    "**Arguments:**\n",
    "- `Permeability`, `Porosity`: Reservoir property arrays\n",
    "- `NX`, `NY`, `t`: Grid and time parameters\n",
    "- `W`, `L`, `h`, `mu`, `Bw`, `dt`, `ct`, `Pi`, `dx`, `dy`: Reservoir/fluid properties\n",
    "- `Q`, `J`, `B`: Well and accumulation matrices\n",
    "\n",
    "**Returns:**\n",
    "- `P`: Pressure at each block for each time step\n",
    "- `x`, `y`: Grid coordinates\n",
    "- `T`: Transmissibility matrix"
   ]
  },
  {
   "cell_type": "code",
   "execution_count": 11,
   "metadata": {
    "collapsed": true,
    "scrolled": true
   },
   "outputs": [],
   "source": [
    "from scipy import sparse\n",
    "from scipy.sparse.linalg import spsolve\n",
    "\n",
    "def inter_transm(Permeability, Porosity, NX, NY, t, W, L, h, mu, Bw, dt, ct, Pi, dx, dy, Q, J, B):\n",
    "    T = T_array(NX,NY,Permeability,mu,Bw,dx,dy,Area_x,Area_y);\n",
    "    T = sparse.lil_matrix(T);\n",
    "    \n",
    "    Permeability = Permeability.reshape(1, NX*NY)\n",
    "    Porosity = Porosity.reshape(1, NX*NY)\n",
    "    \n",
    "    P_0 = np.ones([NX*NY,1])*Pi\n",
    "    P_n = sparse.lil_matrix(P_0)\n",
    "    \n",
    "    P = np.zeros([NX*NY,t+1])\n",
    "    P[:,0] = P_0.transpose()\n",
    "    \n",
    "    for i in range(t):\n",
    "        a = T + J + B/dt\n",
    "        b = np.dot((B/dt), P_n) + Q\n",
    "        P_nplus1 = spsolve(a,b)\n",
    "        P_n = (sparse.lil_matrix(P_nplus1)).transpose()\n",
    "        P[:,i+1] = P_nplus1\n",
    "    \n",
    "    x = [i*L/(NX-1) for i in range(NX)]\n",
    "    y = [i*W/(NY-1) for i in range(NY)]\n",
    "    \n",
    "    return P, x, y, T"
   ]
  },
  {
   "cell_type": "markdown",
   "metadata": {},
   "source": [
    "Here is the main script to create the matrices used at the final plot. \n",
    "Ex: P_time_3 data is Pressure at time = 3 days.  "
   ]
  },
  {
   "cell_type": "markdown",
   "metadata": {},
   "source": [
    "## 3. Run the Simulation\n",
    "\n",
    "This section sets up the wells, builds the required matrices, and runs the simulation to compute pressure distribution over time. You can modify well locations, types, and operating conditions here."
   ]
  },
  {
   "cell_type": "code",
   "execution_count": 12,
   "metadata": {
    "collapsed": true,
    "scrolled": true
   },
   "outputs": [],
   "source": [
    "import math as m\n",
    "from scipy import sparse\n",
    "import random\n",
    "\n",
    "NX, NY, L, W, h, rw, dt, mu, Bw, ct, Pi, Porosity, Permeability, t, n = Res_properties()\n",
    "\n",
    "wells = np.zeros([n, 4])\n",
    "Q = sparse.lil_matrix(np.zeros([NX*NY, 1]))\n",
    "J = sparse.lil_matrix(np.zeros([NX*NY, NX*NY]))\n",
    "\n",
    "x_loc = []\n",
    "y_loc = []\n",
    "welltype = []\n",
    "oper_con = []\n",
    "\n",
    "for i in range(n):\n",
    "    x_loc = [5000, 15000, 5000, 15000, 10000]\n",
    "    y_loc = [5000, 5000, 15000, 15000, 10000]\n",
    "    welltype = [1, 1, 1, 1, 2]\n",
    "    oper_con = [1000, 1000, 1000, 1000, 8000]\n",
    "    \n",
    "    # x_loc.append(int(input('X location of Well: ')))\n",
    "    # y_loc.append(int(input('Y location of Well: ')))\n",
    "    # welltype.append(int(input('BHP (1) or Injector (2)? ')))\n",
    "    # oper_con.append(int(input('Operating condition (ft^3/day or psi): ')))\n",
    "    \n",
    "    wells[i,:] = [x_loc[i], y_loc[i], welltype[i], oper_con[i]]\n",
    "    l = (m.ceil(y_loc[i]/dy)-1)*NX+m.ceil(x_loc[i]/dx)-1 \n",
    "    if welltype[i] == 1:\n",
    "        J[l,l] = (6.33e-3)*(2*m.pi*Permeability[2-m.floor((i)/3),i-m.floor(i/3)*3]*h)/(mu*Bw*m.log(.28/2*(dx**2+dy**2)**(1/2)/rw))\n",
    "        Q[l] = J[l,l]*oper_con[i]\n",
    "        Q = sparse.lil_matrix(Q)\n",
    "    else:\n",
    "        Q[l] = oper_con[i]\n",
    "        Q = sparse.lil_matrix(Q)\n",
    "    J = sparse.lil_matrix(J)\n",
    "Q = sparse.lil_matrix(Q)\n",
    "B = np.diagflat(Porosity.reshape(1,NX*NY)*dx*dy*h*ct/Bw)\n",
    "B = sparse.lil_matrix(B)\n",
    "P, x, y, T = inter_transm(Permeability, Porosity, NX, NY, t, W, L, h, mu, Bw, dt, ct, Pi, dx, dy, Q, J, B)\n",
    "\n",
    "X,Y = np.meshgrid(x,y)\n",
    "\n",
    "P_time_3 = P[:,3].reshape([NX,NY])\n",
    "P_time_20 = P[:,20].reshape([NX,NY])\n",
    "P_time_50 = P[:,50].reshape([NX,NY])\n",
    "\n",
    "Q_time = np.zeros([t,welltype.count(1)])\n",
    "P_time = np.zeros([t,n])\n",
    "\n",
    "for i in range(n):\n",
    "    l=(m.ceil(y_loc[i]/dy)-1)*NX+m.ceil(x_loc[i]/dx)-1\n",
    "    \n",
    "    if welltype[i] == 1:\n",
    "        for t_p in range(t):\n",
    "            Q_time[t_p,i-welltype[:i].count(2)] = J[l,l]*(P[l,t_p]-oper_con[i])\n",
    "            \n",
    "    elif welltype[i] == 2:\n",
    "        for t_p in range(t):\n",
    "            J[l,l] = 6.33e-3*(2*m.pi*Permeability[2-m.floor((i)/3),i-m.floor(i/3)*3]*h)/(mu*Bw*m.log(.28/2*(dx**2+dy**2)**(1/2)/rw))\n",
    "            P_time[t_p,i] = P[l,t_p] + (oper_con[i]/J[l,l])\n",
    "            \n"
   ]
  },
  {
   "cell_type": "markdown",
   "metadata": {},
   "source": [
    "Here is the script to create the 3D plot in Matplotlib.  "
   ]
  },
  {
   "cell_type": "markdown",
   "metadata": {},
   "source": [
    "## 4. Visualize Results: 3D Pressure Plot (Matplotlib)\n",
    "\n",
    "This section generates a 3D surface plot of reservoir pressure at a selected time step using Matplotlib. The X and Y axes represent spatial location, and the Z axis shows pressure (psi).\n",
    "\n",
    "**How to interpret:**\n",
    "- Peaks and valleys indicate pressure highs and lows.\n",
    "- Well locations and types affect the pressure distribution.\n",
    "- Use this plot to observe how pressure propagates through the reservoir over time."
   ]
  },
  {
   "cell_type": "code",
   "execution_count": 13,
   "metadata": {},
   "outputs": [
    {
     "data": {
      "image/png": "[encoded data removed]",
      "text/plain": [
       "<matplotlib.figure.Figure at 0x151dfd8e48>"
      ]
     },
     "metadata": {},
     "output_type": "display_data"
    }
   ],
   "source": [
    "from mpl_toolkits.mplot3d import Axes3D\n",
    "import matplotlib.pyplot as plt\n",
    "from matplotlib import cm, colorbar\n",
    "\n",
    "fig = plt.figure()\n",
    "ax = fig.add_subplot(111, projection='3d')\n",
    "\n",
    "ax.plot_surface(X.T, Y.T, P_time_50, rstride=1, cstride=1, cmap=cm.coolwarm,\n",
    "    linewidth=0, antialiased=False)\n",
    "\n",
    "ax.set_xlabel('Width (ft)')\n",
    "ax.set_ylabel('Length (ft)')\n",
    "ax.set_zlabel('Pressure (psi)')\n",
    "plt.tick_params(axis='both', labelsize=14)\n",
    "plt.xticks(rotation=8)\n",
    "plt.show()\n"
   ]
  },
  {
   "cell_type": "markdown",
   "metadata": {},
   "source": [
    "This next section is to recreate a more smooth graph in plotly.  \n",
    "The 3D interactive graph is available at https://plot.ly/~keedanbarrera/2.  "
   ]
  },
  {
   "cell_type": "markdown",
   "metadata": {},
   "source": [
    "## 5. Visualize Results: Interactive 3D Plot (Plotly)\n",
    "\n",
    "This section creates an interactive 3D surface plot using Plotly. You can zoom, rotate, and hover to explore pressure values across the reservoir.\n",
    "\n",
    "**How to use:**\n",
    "- Click and drag to rotate the view.\n",
    "- Hover over the surface to see pressure values at specific locations.\n",
    "- Use this plot for a more detailed and interactive analysis of reservoir behavior."
   ]
  },
  {
   "cell_type": "code",
   "execution_count": null,
   "metadata": {},
   "outputs": [
    {
     "name": "stdout",
     "output_type": "stream",
     "text": [
      "(99, 99)\n"
     ]
    },
    {
     "data": {
      "text/html": [
       "<iframe id=\"igraph\" scrolling=\"no\" style=\"border:none;\" seamless=\"seamless\" src=\"https://plot.ly/~keedanbarrera/2.embed\" height=\"500px\" width=\"600px\"></iframe>"
      ],
      "text/plain": [
       "<plotly.tools.PlotlyDisplay object>"
      ]
     },
     "execution_count": 14,
     "metadata": {},
     "output_type": "execute_result"
    }
   ],
   "source": [
    "# Modern Plotly usage for local interactive plotting\n",
    "import plotly.graph_objects as go\n",
    "from plotly.offline import iplot, init_notebook_mode\n",
    "import pandas as pd\n",
    "\n",
    "init_notebook_mode(connected=True)\n",
    "\n",
    "# Create interactive 3D surface plot\n",
    "fig = go.Figure(data=[\n",
    "    go.Surface(z=P_time_50, x=X[0], y=Y[:,0], colorscale='Viridis', colorbar=dict(title='Pressure (psi)'))\n",
    "])\n",
    "\n",
    "fig.update_layout(\n",
    "    title='Nichelik Field Pressure Distribution (Day 50)',\n",
    "    autosize=False,\n",
    "    width=700,\n",
    "    height=600,\n",
    "    margin=dict(l=65, r=50, b=65, t=90),\n",
    "    scene=dict(\n",
    "        xaxis_title='Width (ft)',\n",
    "        yaxis_title='Length (ft)',\n",
    "        zaxis_title='Pressure (psi)'\n",
    "    )\n",
    ")\n",
    "\n",
    "iplot(fig)"
   ]
  },
  {
   "cell_type": "markdown",
   "metadata": {},
   "source": [
    "## 6. Results Summary & Next Steps\n",
    "\n",
    "- The plots above show how pressure evolves in the reservoir over time, influenced by well placement and operating conditions.\n",
    "- Use the interactive plot to explore pressure at different locations and times.\n",
    "\n",
    "**Next Steps:**\n",
    "- Adjust simulation parameters or well configurations to model different scenarios.\n",
    "- Add more wells or change their types (producer/injector) to see the impact.\n",
    "- Export results for further analysis or reporting.\n",
    "- Add interactive widgets (e.g., ipywidgets) to change parameters without editing code.\n",
    "- Modularize code into Python scripts for larger projects or repeated use.\n",
    "- Add unit tests for core functions if sharing with developers.\n",
    "- Consider exporting results to CSV or Excel for reporting.\n",
    "- Share this notebook with colleagues for feedback and collaborative improvements.\n",
    "- Document any customizations or new features you add for future users.\n",
    "\n",
    "---\n",
    "\n",
    "For questions or suggestions, see the README or contact the project maintainer."
   ]
  },
  {
   "cell_type": "markdown",
   "metadata": {},
   "source": [
    "### Example: Export Results to CSV\n",
    "\n",
    "Export the pressure results at a specific time step to a CSV file for further analysis or reporting."
   ]
  },
  {
   "cell_type": "code",
   "execution_count": null,
   "metadata": {},
   "outputs": [],
   "source": [
    "import pandas as pd\n",
    "\n",
    "# Export pressure at day 50 to CSV\n",
    "# (X[0] and Y[:,0] are used as column and index labels)\n",
    "df_pressure_50 = pd.DataFrame(P_time_50, index=Y[:,0], columns=X[0])\n",
    "df_pressure_50.to_csv(\"pressure_day50.csv\")\n",
    "print(\"Pressure at day 50 exported to pressure_day50.csv\")"
   ]
  },
  {
   "cell_type": "markdown",
   "metadata": {},
   "source": [
    "### Example: Add Interactive Widgets for Parameters\n",
    "\n",
    "Use ipywidgets to allow users to change simulation parameters without editing code."
   ]
  },
  {
   "cell_type": "code",
   "execution_count": null,
   "metadata": {},
   "outputs": [],
   "source": [
    "import ipywidgets as widgets\n",
    "from IPython.display import display\n",
    "\n",
    "NX_widget = widgets.IntSlider(value=99, min=10, max=200, step=1, description='NX')\n",
    "NY_widget = widgets.IntSlider(value=99, min=10, max=200, step=1, description='NY')\n",
    "L_widget = widgets.IntText(value=20000, description='Length (ft)')\n",
    "W_widget = widgets.IntText(value=20000, description='Width (ft)')\n",
    "h_widget = widgets.IntText(value=300, description='Height (ft)')\n",
    "\n",
    "display(NX_widget, NY_widget, L_widget, W_widget, h_widget)\n",
    "\n",
    "# You can use these widget values in your simulation setup:\n",
    "# NX = NX_widget.value\n",
    "# NY = NY_widget.value\n",
    "# L = L_widget.value\n",
    "# W = W_widget.value\n",
    "# h = h_widget.value"
   ]
  },
  {
   "cell_type": "markdown",
   "metadata": {},
   "source": [
    "### Example: Export Results to Excel\n",
    "\n",
    "Export the pressure results at a specific time step to an Excel file."
   ]
  },
  {
   "cell_type": "code",
   "execution_count": null,
   "metadata": {},
   "outputs": [],
   "source": [
    "df_pressure_50.to_excel(\"pressure_day50.xlsx\")\n",
    "print(\"Pressure at day 50 exported to pressure_day50.xlsx\")"
   ]
  }
 ],
 "metadata": {
  "kernelspec": {
   "display_name": "Python 3",
   "language": "python",
   "name": "python3"
  },
  "language_info": {
   "codemirror_mode": {
    "name": "ipython",
    "version": 3
   },
   "file_extension": ".py",
   "mimetype": "text/x-python",
   "name": "python",
   "nbconvert_exporter": "python",
   "pygments_lexer": "ipython3",
   "version": "3.6.1"
  }
 },
 "nbformat": 4,
 "nbformat_minor": 2
}
