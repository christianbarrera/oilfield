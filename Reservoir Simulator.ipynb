{
 "cells": [
  {
   "cell_type": "markdown",
   "metadata": {},
   "source": [
    "## This block of code sets the properties of the reservoir.  The commented code is for user input.  \n",
    "The first block is where the user inputs the reservoir information.  Exchange the function with what's included here below in the triple-quotes to ask the user for their input.   "
   ]
  },
  {
   "cell_type": "code",
   "execution_count": 8,
   "metadata": {
    "collapsed": true
   },
   "outputs": [],
   "source": [
    "import numpy as np\n",
    "from scipy import sparse\n",
    "\n",
    "'''\n",
    "def Res_properties():\n",
    "    NX = int(input(\"Number of X grid blocks: \"))\n",
    "    NY = int(input(\"Number of Y grid blocks: \"))\n",
    "    L = int(input(\"Length of Reservoir: \"))\n",
    "    W = int(input(\"Width of Reservoir: \"))\n",
    "    h = int(input(\"Height of Reservoir: \"))\n",
    "    rw = float(input(\"Wellbore radius: \"))\n",
    "    dt = float(input(\"Change in time: \"))\n",
    "    mu = float(input(\"Fluid viscosity: \"))\n",
    "    Bw = float(input(\"Formation volume factor: \"))\n",
    "    ct = float(input(\"Rock compressibility: \"))\n",
    "    Pi = int(input(\"Initial pressure: \"))\n",
    "    Porosity = (np.ones([NX, NY])*0.3).T\n",
    "    Permeability = (np.ones([NX, NY])*75).T\n",
    "    t = int(input(\"Total time: \"))\n",
    "    n = int(input(\"Number of wells: \"))\n",
    "    \n",
    "    return NX, NY, L, W, h, rw, dt, mu, Bw, ct, Pi, Porosity, Permeability, t, n'''\n",
    "\n",
    "def Res_properties():\n",
    "    NX = 99\n",
    "    NY = 99\n",
    "\n",
    "    L = 20000\n",
    "    W = 20000\n",
    "    h = 300\n",
    "    rw = float(.25)\n",
    "    dt = float(1)\n",
    "    mu = float(1)\n",
    "    Bw = float(1.36)\n",
    "    ct = float(1e-06)\n",
    "    Pi = int(3000)\n",
    "    Porosity = (np.ones([NX, NY])*.3).T\n",
    "    Permeability = (np.ones([NX, NY])*75).T\n",
    "    t = int(100)\n",
    "    n = 5\n",
    "\n",
    "    return NX, NY, L, W, h, rw, dt, mu, Bw, ct, Pi, Porosity, Permeability, t, n\n",
    "\n",
    "NX, NY, L, W, h, rw, dt, mu, Bw, ct, Pi, Porosity, Permeability, t, n = Res_properties()\n",
    "\n",
    "dx = L/NX\n",
    "dy = W/NY\n",
    "\n",
    "Area_x = h*dx\n",
    "Area_y = h*dy"
   ]
  },
  {
   "cell_type": "markdown",
   "metadata": {},
   "source": [
    "The below T_inter function creates the intertransmisciblity of the reservoir between blocks."
   ]
  },
  {
   "cell_type": "code",
   "execution_count": 9,
   "metadata": {
    "collapsed": true
   },
   "outputs": [],
   "source": [
    "def T_inter(Permeability, Permeability_2, mu, Bw, dx, Area):\n",
    "    if Permeability == 0 or Permeability_2 == 0:\n",
    "        t_inter = 0\n",
    "    else:\n",
    "        k_inter = 2*(1/float(Permeability) + 1/float(Permeability_2))**(-1)\n",
    "        t_inter = k_inter*Area/(mu*Bw*dx)*(6.33e-03)\n",
    "    return t_inter"
   ]
  },
  {
   "cell_type": "markdown",
   "metadata": {},
   "source": [
    "Below, T_array creates the matrix to describe intertransmiscibility.  "
   ]
  },
  {
   "cell_type": "code",
   "execution_count": 10,
   "metadata": {
    "collapsed": true,
    "scrolled": true
   },
   "outputs": [],
   "source": [
    "from scipy import sparse\n",
    "\n",
    "def T_array(NX, NY, Permeability, mu, Bw, dx, dy, Area_x, Area_y):\n",
    "    N = NX*NY\n",
    "    T = sparse.lil_matrix(np.zeros([N, N]))\n",
    "\n",
    "    for i in range(N):\n",
    "        if (i+1) - NX > 0:  # shows blocks above bottom edge\n",
    "            T[i, i-NX] = -T_inter(Permeability[2-m.floor((i)/NX),i-m.floor(i/NX)*NX], \n",
    "                                  Permeability[3-m.floor((i)/NX),i-m.floor(i/NX)*NX],\n",
    "                                mu, Bw, dy, Area_x)\n",
    "            T[i, i] = T[i, i] + T_inter(Permeability[2-m.floor((i)/NX),i-m.floor(i/NX)*NX], \n",
    "                                        Permeability[3-m.floor((i)/NX),i-m.floor(i/NX)*NX],\n",
    "                                mu, Bw, dy, Area_x)\n",
    "\n",
    "            \n",
    "        \n",
    "        if (i+1) + NX <= N:    # shows blocks below top edge \n",
    "\n",
    "            T[i, i+NX] = -T_inter(Permeability[2-m.floor((i)/NX),i-m.floor(i/NX)*NX], \n",
    "                                  Permeability[1-m.floor((i)/NX),i-m.floor(i/NX)*NX],\n",
    "                                mu, Bw, dy, Area_x)\n",
    "            T[i, i] = T[i, i] + T_inter(Permeability[2-m.floor((i)/NX),i-m.floor(i/NX)*NX], \n",
    "                                        Permeability[1-m.floor((i)/NX),i-m.floor(i/NX)*NX],\n",
    "                                mu, Bw, dy, Area_x)\n",
    "\n",
    "            \n",
    "            \n",
    "        if (i+1)%NX != 0:     # Shows blocks except right edge\n",
    "            T[i, i+1] = -T_inter(Permeability[2-m.floor((i)/NX),i-m.floor(i/NX)*NX], Permeability[2-m.floor((i)/NX),i-m.floor(i/NX)*NX+1],\n",
    "                                mu, Bw, dx, Area_y)\n",
    "            T[i, i] = T[i, i] + T_inter(Permeability[2-m.floor((i)/NX),i-m.floor(i/NX)*NX], \n",
    "                                        Permeability[2-m.floor((i)/NX),i-m.floor(i/NX)*NX+1],\n",
    "                                mu, Bw, dx, Area_y)\n",
    "\n",
    "            \n",
    "            \n",
    "        if (i+1)%NX != 1:      # shows blcoks except left edge\n",
    "            T[i, i-1] = -T_inter(Permeability[2-m.floor((i)/NX),i-m.floor(i/NX)*NX], \n",
    "                                 Permeability[2-m.floor((i)/NX),i-m.floor(i/NX)*NX-1],\n",
    "                                mu, Bw, dx, Area_y)\n",
    "            T[i, i] = T[i, i] + T_inter(Permeability[2-m.floor((i)/NX),i-m.floor(i/NX)*NX], \n",
    "                                        Permeability[2-m.floor((i)/NX),i-m.floor(i/NX)*NX-1],\n",
    "                                mu, Bw, dx, Area_y)      \n",
    "            \n",
    "    return sparse.lil_matrix(T)"
   ]
  },
  {
   "cell_type": "markdown",
   "metadata": {},
   "source": [
    "The inter_transm function creates the pressure points for each block."
   ]
  },
  {
   "cell_type": "code",
   "execution_count": 11,
   "metadata": {
    "collapsed": true,
    "scrolled": true
   },
   "outputs": [],
   "source": [
    "from scipy import sparse\n",
    "from scipy.sparse.linalg import spsolve\n",
    "\n",
    "def inter_transm(Permeability, Porosity, NX, NY, t, W, L, h, mu, Bw, dt, ct, Pi, dx, dy, Q, J, B):\n",
    "    T = T_array(NX,NY,Permeability,mu,Bw,dx,dy,Area_x,Area_y);\n",
    "    T = sparse.lil_matrix(T);\n",
    "    \n",
    "    Permeability = Permeability.reshape(1, NX*NY)\n",
    "    Porosity = Porosity.reshape(1, NX*NY)\n",
    "    \n",
    "    P_0 = np.ones([NX*NY,1])*Pi\n",
    "    P_n = sparse.lil_matrix(P_0)\n",
    "    \n",
    "    P = np.zeros([NX*NY,t+1])\n",
    "    P[:,0] = P_0.transpose()\n",
    "    \n",
    "    for i in range(t):\n",
    "        a = T + J + B/dt\n",
    "        b = np.dot((B/dt), P_n) + Q\n",
    "        P_nplus1 = spsolve(a,b)\n",
    "        P_n = (sparse.lil_matrix(P_nplus1)).transpose()\n",
    "        P[:,i+1] = P_nplus1\n",
    "    \n",
    "    x = [i*L/(NX-1) for i in range(NX)]\n",
    "    y = [i*W/(NY-1) for i in range(NY)]\n",
    "    \n",
    "    return P, x, y, T"
   ]
  },
  {
   "cell_type": "markdown",
   "metadata": {},
   "source": [
    "Here is the main script to create the matrices used at the final plot. \n",
    "Ex: P_time_3 data is Pressure at time = 3 days.  "
   ]
  },
  {
   "cell_type": "code",
   "execution_count": 12,
   "metadata": {
    "collapsed": true,
    "scrolled": true
   },
   "outputs": [],
   "source": [
    "import math as m\n",
    "from scipy import sparse\n",
    "import random\n",
    "\n",
    "NX, NY, L, W, h, rw, dt, mu, Bw, ct, Pi, Porosity, Permeability, t, n = Res_properties()\n",
    "\n",
    "wells = np.zeros([n, 4])\n",
    "Q = sparse.lil_matrix(np.zeros([NX*NY, 1]))\n",
    "J = sparse.lil_matrix(np.zeros([NX*NY, NX*NY]))\n",
    "\n",
    "x_loc = []\n",
    "y_loc = []\n",
    "welltype = []\n",
    "oper_con = []\n",
    "\n",
    "for i in range(n):\n",
    "    x_loc = [5000, 15000, 5000, 15000, 10000]\n",
    "    y_loc = [5000, 5000, 15000, 15000, 10000]\n",
    "    welltype = [1, 1, 1, 1, 2]\n",
    "    oper_con = [1000, 1000, 1000, 1000, 8000]\n",
    "    \n",
    "    # x_loc.append(int(input('X location of Well: ')))\n",
    "    # y_loc.append(int(input('Y location of Well: ')))\n",
    "    # welltype.append(int(input('BHP (1) or Injector (2)? ')))\n",
    "    # oper_con.append(int(input('Operating condition (ft^3/day or psi): ')))\n",
    "    \n",
    "    wells[i,:] = [x_loc[i], y_loc[i], welltype[i], oper_con[i]]\n",
    "    l = (m.ceil(y_loc[i]/dy)-1)*NX+m.ceil(x_loc[i]/dx)-1 \n",
    "    if welltype[i] == 1:\n",
    "        J[l,l] = (6.33e-3)*(2*m.pi*Permeability[2-m.floor((i)/3),i-m.floor(i/3)*3]*h)/(mu*Bw*m.log(.28/2*(dx**2+dy**2)**(1/2)/rw))\n",
    "        Q[l] = J[l,l]*oper_con[i]\n",
    "        Q = sparse.lil_matrix(Q)\n",
    "    else:\n",
    "        Q[l] = oper_con[i]\n",
    "        Q = sparse.lil_matrix(Q)\n",
    "    J = sparse.lil_matrix(J)\n",
    "Q = sparse.lil_matrix(Q)\n",
    "B = np.diagflat(Porosity.reshape(1,NX*NY)*dx*dy*h*ct/Bw)\n",
    "B = sparse.lil_matrix(B)\n",
    "P, x, y, T = inter_transm(Permeability, Porosity, NX, NY, t, W, L, h, mu, Bw, dt, ct, Pi, dx, dy, Q, J, B)\n",
    "\n",
    "X,Y = np.meshgrid(x,y)\n",
    "\n",
    "P_time_3 = P[:,3].reshape([NX,NY])\n",
    "P_time_20 = P[:,20].reshape([NX,NY])\n",
    "P_time_50 = P[:,50].reshape([NX,NY])\n",
    "\n",
    "Q_time = np.zeros([t,welltype.count(1)])\n",
    "P_time = np.zeros([t,n])\n",
    "\n",
    "for i in range(n):\n",
    "    l=(m.ceil(y_loc[i]/dy)-1)*NX+m.ceil(x_loc[i]/dx)-1\n",
    "    \n",
    "    if welltype[i] == 1:\n",
    "        for t_p in range(t):\n",
    "            Q_time[t_p,i-welltype[:i].count(2)] = J[l,l]*(P[l,t_p]-oper_con[i])\n",
    "            \n",
    "    elif welltype[i] == 2:\n",
    "        for t_p in range(t):\n",
    "            J[l,l] = 6.33e-3*(2*m.pi*Permeability[2-m.floor((i)/3),i-m.floor(i/3)*3]*h)/(mu*Bw*m.log(.28/2*(dx**2+dy**2)**(1/2)/rw))\n",
    "            P_time[t_p,i] = P[l,t_p] + (oper_con[i]/J[l,l])\n",
    "            \n"
   ]
  },
  {
   "cell_type": "markdown",
   "metadata": {},
   "source": [
    "Here is the script to create the 3D plot in Matplotlib.  "
   ]
  },
  {
   "cell_type": "code",
   "execution_count": 13,
   "metadata": {},
   "outputs": [
    {
     "data": {
      "image/png": "[encoded data removed]",
      "text/plain": [
       "<matplotlib.figure.Figure at 0x151dfd8e48>"
      ]
     },
     "metadata": {},
     "output_type": "display_data"
    }
   ],
   "source": [
    "from mpl_toolkits.mplot3d import Axes3D\n",
    "import matplotlib.pyplot as plt\n",
    "from matplotlib import cm, colorbar\n",
    "\n",
    "fig = plt.figure()\n",
    "ax = fig.add_subplot(111, projection='3d')\n",
    "\n",
    "ax.plot_surface(X.T, Y.T, P_time_50, rstride=1, cstride=1, cmap=cm.coolwarm,\n",
    "    linewidth=0, antialiased=False)\n",
    "\n",
    "ax.set_xlabel('Width (ft)')\n",
    "ax.set_ylabel('Length (ft)')\n",
    "ax.set_zlabel('Pressure (psi)')\n",
    "plt.tick_params(axis='both', labelsize=14)\n",
    "plt.xticks(rotation=8)\n",
    "plt.show()\n"
   ]
  },
  {
   "cell_type": "markdown",
   "metadata": {},
   "source": [
    "This next section is to recreate a more smooth graph in plotly.  \n",
    "The 3D interactive graph is available at https://plot.ly/~keedanbarrera/2.  "
   ]
  },
  {
   "cell_type": "code",
   "execution_count": 14,
   "metadata": {},
   "outputs": [
    {
     "name": "stdout",
     "output_type": "stream",
     "text": [
      "(99, 99)\n"
     ]
    },
    {
     "data": {
      "text/html": [
       "<iframe id=\"igraph\" scrolling=\"no\" style=\"border:none;\" seamless=\"seamless\" src=\"https://plot.ly/~keedanbarrera/2.embed\" height=\"500px\" width=\"600px\"></iframe>"
      ],
      "text/plain": [
       "<plotly.tools.PlotlyDisplay object>"
      ]
     },
     "execution_count": 14,
     "metadata": {},
     "output_type": "execute_result"
    }
   ],
   "source": [
    "import plotly.plotly as py\n",
    "import plotly.graph_objs as go\n",
    "\n",
    "import pandas as pd\n",
    "print(P_time_50.shape)\n",
    "data = [\n",
    "    go.Surface(\n",
    "        z=P_time_50\n",
    "    )\n",
    "]\n",
    "\n",
    "layout = go.Layout(\n",
    "    title='Nichelik Field',\n",
    "    autosize=False,\n",
    "    width=600,\n",
    "    height=500,\n",
    "    margin=dict(\n",
    "        l=65,\n",
    "        r=50,\n",
    "        b=65,\n",
    "        t=90\n",
    "    ),\n",
    ")\n",
    "\n",
    "fig = go.Figure(data=data, layout=layout)\n",
    "py.iplot(fig, filename='elevations-3d-surface')"
   ]
  }
 ],
 "metadata": {
  "kernelspec": {
   "display_name": "Python 3",
   "language": "python",
   "name": "python3"
  },
  "language_info": {
   "codemirror_mode": {
    "name": "ipython",
    "version": 3
   },
   "file_extension": ".py",
   "mimetype": "text/x-python",
   "name": "python",
   "nbconvert_exporter": "python",
   "pygments_lexer": "ipython3",
   "version": "3.6.1"
  }
 },
 "nbformat": 4,
 "nbformat_minor": 2
}
